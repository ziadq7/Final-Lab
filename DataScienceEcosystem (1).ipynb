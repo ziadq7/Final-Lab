{
 "cells": [
  {
   "cell_type": "markdown",
   "id": "8aefe596-970b-4bcb-a7cd-061269611368",
   "metadata": {},
   "source": [
    "# Data Science Tools and Ecosystem"
   ]
  },
  {
   "cell_type": "markdown",
   "id": "a7ea204a-ff31-4165-b3f7-791b0c9f3118",
   "metadata": {},
   "source": [
    "## In this notebook, Data Science Tools and Ecosystem are summarized."
   ]
  },
  {
   "cell_type": "markdown",
   "id": "cbed808d-a510-4789-a596-fc79de406aae",
   "metadata": {},
   "source": [
    "**Objectives:**\r\n",
    "\r\n",
    "- List popular languages for Data Science.\r\n",
    "- List commonly used libraries by Data Scientists.\r\n",
    "- Identify key Data Science tools.\r\n",
    "rios.\r\n"
   ]
  },
  {
   "cell_type": "markdown",
   "id": "4f1b5329-18ed-416d-ac7e-fb154e52c287",
   "metadata": {},
   "source": [
    "Some ofe popular languages that Data Scientists use are:\n",
    "1. Python\n",
    "2. R\n",
    "3. SQL\n",
    "4. C++\n",
    "5. Java"
   ]
  },
  {
   "cell_type": "markdown",
   "id": "2bcf565f-7afd-4f30-9ea8-28fbeff8d677",
   "metadata": {},
   "source": [
    "Some of the commonly used libraries by Data Scientists include:\n",
    "1. NumPy\n",
    "2. Pandas\n",
    "3. Matplotlib\n",
    "4. Scikit-learn\n",
    "5. TensorFlow\n"
   ]
  },
  {
   "cell_type": "markdown",
   "id": "3392848e-b659-47e3-ac21-37a30290b206",
   "metadata": {},
   "source": [
    "| Data Science Tools  |\r\n",
    "|---------------------|\r\n",
    "| Anaconda            |\r\n",
    "| Jupyter Notebooks   |\r\n",
    "| R Studio            |\r\n",
    "| Spyder              |\r\n",
    "| Zeppelin            |\r\n",
    "pelin\r\n",
    "     |\r\n"
   ]
  },
  {
   "cell_type": "markdown",
   "id": "0993139d-efed-491d-b272-b98f323aa8ff",
   "metadata": {},
   "source": [
    "### Below are a few examples of evaluating arithmetic expressions in Python"
   ]
  },
  {
   "cell_type": "code",
   "execution_count": 1,
   "id": "be0796cc-de82-4e86-a67c-a270afb5a987",
   "metadata": {},
   "outputs": [
    {
     "data": {
      "text/plain": [
       "17"
      ]
     },
     "execution_count": 1,
     "metadata": {},
     "output_type": "execute_result"
    }
   ],
   "source": [
    "# This a simple arithmetic expression to mutiply then add integers\n",
    "(3*4)+5"
   ]
  },
  {
   "cell_type": "code",
   "execution_count": 2,
   "id": "c7eaaf8e-5e52-450e-beb6-98237f069354",
   "metadata": {},
   "outputs": [
    {
     "data": {
      "text/plain": [
       "3.3333333333333335"
      ]
     },
     "execution_count": 2,
     "metadata": {},
     "output_type": "execute_result"
    }
   ],
   "source": [
    "#  This will convert 200 minutes to hours by diving by 60\n",
    "200/60"
   ]
  },
  {
   "cell_type": "markdown",
   "id": "bf9091b7-ac01-4ad4-b16f-7675198fb366",
   "metadata": {},
   "source": [
    "## Author \n",
    "Ziad El-Qurneh"
   ]
  },
  {
   "cell_type": "code",
   "execution_count": null,
   "id": "022ea35e-d921-414d-9861-aa25be929701",
   "metadata": {},
   "outputs": [],
   "source": []
  }
 ],
 "metadata": {
  "kernelspec": {
   "display_name": "Python 3 (ipykernel)",
   "language": "python",
   "name": "python3"
  },
  "language_info": {
   "codemirror_mode": {
    "name": "ipython",
    "version": 3
   },
   "file_extension": ".py",
   "mimetype": "text/x-python",
   "name": "python",
   "nbconvert_exporter": "python",
   "pygments_lexer": "ipython3",
   "version": "3.11.7"
  }
 },
 "nbformat": 4,
 "nbformat_minor": 5
}
