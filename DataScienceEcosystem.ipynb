{
 "cells": [
  {
   "cell_type": "markdown",
   "id": "8aefe596-970b-4bcb-a7cd-061269611368",
   "metadata": {},
   "source": [
    "# Data Science Tools and Ecosystem"
   ]
  },
  {
   "cell_type": "markdown",
   "id": "a7ea204a-ff31-4165-b3f7-791b0c9f3118",
   "metadata": {},
   "source": [
    "## In this notebook, Data Science Tools and Ecosystem are summarized."
   ]
  },
  {
   "cell_type": "markdown",
   "id": "cbed808d-a510-4789-a596-fc79de406aae",
   "metadata": {},
   "source": [
    "**Objectives:**\r\n",
    "\r\n",
    "- List popular languages for Data Science.\r\n",
    "- List commonly used libraries by Data Scientists.\r\n",
    "- Identify key Data Science tools.\r\n",
    "rios.\r\n"
   ]
  },
  {
   "cell_type": "markdown",
   "id": "3c876478-04f2-447f-a8cf-ef0401fc826c",
   "metadata": {},
   "source": [
    "## Some of the popular languages that Data Scientists use are:\n",
    "1- Python\n",
    "2- R\n",
    "3- "
   ]
  },
  {
   "cell_type": "markdown",
   "id": "f82375e7-909d-4559-95a3-f239ecd217bd",
   "metadata": {},
   "source": [
    "## Some of the commonly used libraries used by Data Scientists include:\n",
    "1- NumPy 2- Matplotlib 3- Pandas"
   ]
  },
  {
   "cell_type": "markdown",
   "id": "3e290bd4-cd2e-4eb0-bae5-876236148654",
   "metadata": {},
   "source": [
    "## Data Science Tools"
   ]
  },
  {
   "cell_type": "raw",
   "id": "b742540d-b661-47ae-9d2d-4e97cd1d5e3d",
   "metadata": {},
   "source": [
    "1- Apache Spark\n",
    "2- Tableau\n",
    "3- Power BI"
   ]
  },
  {
   "cell_type": "markdown",
   "id": "0993139d-efed-491d-b272-b98f323aa8ff",
   "metadata": {},
   "source": [
    "### Below are a few examples of evaluating arithmetic expressions in Python"
   ]
  },
  {
   "cell_type": "code",
   "execution_count": 1,
   "id": "be0796cc-de82-4e86-a67c-a270afb5a987",
   "metadata": {},
   "outputs": [
    {
     "data": {
      "text/plain": [
       "17"
      ]
     },
     "execution_count": 1,
     "metadata": {},
     "output_type": "execute_result"
    }
   ],
   "source": [
    "# This a simple arithmetic expression to mutiply then add integers\n",
    "(3*4)+5"
   ]
  },
  {
   "cell_type": "code",
   "execution_count": 2,
   "id": "c7eaaf8e-5e52-450e-beb6-98237f069354",
   "metadata": {},
   "outputs": [
    {
     "data": {
      "text/plain": [
       "3.3333333333333335"
      ]
     },
     "execution_count": 2,
     "metadata": {},
     "output_type": "execute_result"
    }
   ],
   "source": [
    "#  This will convert 200 minutes to hours by diving by 60\n",
    "200/60"
   ]
  },
  {
   "cell_type": "markdown",
   "id": "bf9091b7-ac01-4ad4-b16f-7675198fb366",
   "metadata": {},
   "source": [
    "## Author: \n",
    "Ziad El-Qurneh"
   ]
  },
  {
   "cell_type": "code",
   "execution_count": null,
   "id": "022ea35e-d921-414d-9861-aa25be929701",
   "metadata": {},
   "outputs": [],
   "source": []
  }
 ],
 "metadata": {
  "kernelspec": {
   "display_name": "Python 3 (ipykernel)",
   "language": "python",
   "name": "python3"
  },
  "language_info": {
   "codemirror_mode": {
    "name": "ipython",
    "version": 3
   },
   "file_extension": ".py",
   "mimetype": "text/x-python",
   "name": "python",
   "nbconvert_exporter": "python",
   "pygments_lexer": "ipython3",
   "version": "3.11.7"
  }
 },
 "nbformat": 4,
 "nbformat_minor": 5
}
